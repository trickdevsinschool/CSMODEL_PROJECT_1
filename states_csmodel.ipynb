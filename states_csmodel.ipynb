{
 "cells": [
  {
   "cell_type": "markdown",
   "id": "entertaining-matthew",
   "metadata": {},
   "source": [
    "## CSMODEL Project 1- Statistical Inference\n",
    "\n",
    "Dizon, Jericho\n",
    "Narvasa, Patrick\n",
    "\n",
    "This notebook serves as a analysis of the [U.S. Education Datasets: Unification Project](https://www.kaggle.com/noriuk/us-education-datasets-unification-project) found in Kaggle. \n"
   ]
  },
  {
   "cell_type": "markdown",
   "id": "continent-share",
   "metadata": {},
   "source": [
    "## Collection Process"
   ]
  },
  {
   "cell_type": "markdown",
   "id": "tamil-module",
   "metadata": {},
   "source": [
    "## Structure of the Data File"
   ]
  },
  {
   "cell_type": "code",
   "execution_count": null,
   "id": "yellow-kitty",
   "metadata": {},
   "outputs": [],
   "source": [
    "##"
   ]
  }
 ],
 "metadata": {
  "kernelspec": {
   "display_name": "Python 3",
   "language": "python",
   "name": "python3"
  },
  "language_info": {
   "codemirror_mode": {
    "name": "ipython",
    "version": 3
   },
   "file_extension": ".py",
   "mimetype": "text/x-python",
   "name": "python",
   "nbconvert_exporter": "python",
   "pygments_lexer": "ipython3",
   "version": "3.9.2"
  }
 },
 "nbformat": 4,
 "nbformat_minor": 5
}
