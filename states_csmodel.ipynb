{
 "cells": [
  {
   "cell_type": "markdown",
   "id": "civic-graduation",
   "metadata": {},
   "source": [
    "## CSMODEL Project 1- Statistical Inference\n",
    "\n",
    "Dizon, Jericho\n",
    "Narvasa, Patrick\n",
    "\n",
    "This notebook serves as a analysis of the [U.S. Education Datasets: Unification Project](https://www.kaggle.com/noriuk/us-education-datasets-unification-project) found in Kaggle. This serves as\n"
   ]
  },
  {
   "cell_type": "markdown",
   "id": "about-supplier",
   "metadata": {},
   "source": [
    "## Collection Process\n",
    "The collection of data were gathered by the use of different online sources that have databases on the number of enrollment, financials and academic achievement. The website gathered the data using surveys and reports from different government websites like U.S. Census Bureau and the National Center for Education Statistics with the following links:\n",
    "- Enrollment\n",
    "https://nces.ed.gov/ccd/stnfis.asp\n",
    "- Financials\n",
    "https://www.census.gov/programs-surveys/school-finances/data/tables.html\n",
    "- Academic Achievement\n",
    "https://www.nationsreportcard.gov/ndecore/xplore/NDE"
   ]
  },
  {
   "cell_type": "markdown",
   "id": "renewable-apache",
   "metadata": {},
   "source": [
    "## Structure of the Data File\n",
    "\n"
   ]
  },
  {
   "cell_type": "markdown",
   "id": "former-threshold",
   "metadata": {},
   "source": [
    "## Variables"
   ]
  },
  {
   "cell_type": "code",
   "execution_count": null,
   "id": "pretty-irrigation",
   "metadata": {},
   "outputs": [],
   "source": []
  }
 ],
 "metadata": {
  "kernelspec": {
   "display_name": "Python 3",
   "language": "python",
   "name": "python3"
  },
  "language_info": {
   "codemirror_mode": {
    "name": "ipython",
    "version": 3
   },
   "file_extension": ".py",
   "mimetype": "text/x-python",
   "name": "python",
   "nbconvert_exporter": "python",
   "pygments_lexer": "ipython3",
   "version": "3.8.8"
  }
 },
 "nbformat": 4,
 "nbformat_minor": 5
}
